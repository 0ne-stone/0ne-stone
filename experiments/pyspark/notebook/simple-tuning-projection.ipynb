{
 "cells": [
  {
   "cell_type": "markdown",
   "source": [
    "## 서울 부동산 실거래가 데이터(from 공공데이터포털)\n",
    "URL: https://data.seoul.go.kr/dataList/OA-21275/S/1/datasetView.do"
   ],
   "metadata": {
    "collapsed": false
   },
   "id": "31983b411b5bad6d"
  },
  {
   "cell_type": "code",
   "execution_count": 2,
   "id": "initial_id",
   "metadata": {
    "collapsed": true,
    "ExecuteTime": {
     "end_time": "2024-03-20T05:16:26.359037Z",
     "start_time": "2024-03-20T05:16:22.440392Z"
    }
   },
   "outputs": [
    {
     "name": "stderr",
     "output_type": "stream",
     "text": [
      "24/03/20 14:16:24 WARN Utils: Your hostname, dead-line.local resolves to a loopback address: 127.0.0.1; using 172.29.89.178 instead (on interface en0)\n",
      "24/03/20 14:16:24 WARN Utils: Set SPARK_LOCAL_IP if you need to bind to another address\n",
      "Setting default log level to \"WARN\".\n",
      "To adjust logging level use sc.setLogLevel(newLevel). For SparkR, use setLogLevel(newLevel).\n",
      "24/03/20 14:16:24 WARN NativeCodeLoader: Unable to load native-hadoop library for your platform... using builtin-java classes where applicable\n",
      "24/03/20 14:16:25 WARN Utils: Service 'SparkUI' could not bind on port 4040. Attempting port 4041.\n"
     ]
    }
   ],
   "source": [
    "from pyspark.sql import SparkSession\n",
    "from pyspark.sql.functions import col\n",
    "\n",
    "spark = SparkSession.builder.getOrCreate()"
   ]
  },
  {
   "cell_type": "code",
   "outputs": [
    {
     "name": "stderr",
     "output_type": "stream",
     "text": [
      "                                                                                \r"
     ]
    }
   ],
   "source": [
    "raw_df = spark.read.format('json').load('../data/real-estate-seoul-gangnamgu.json')"
   ],
   "metadata": {
    "collapsed": false,
    "ExecuteTime": {
     "end_time": "2024-03-20T05:16:33.563010Z",
     "start_time": "2024-03-20T05:16:26.360602Z"
    }
   },
   "id": "abf5071f138c310e",
   "execution_count": 3
  },
  {
   "cell_type": "code",
   "outputs": [
    {
     "name": "stdout",
     "output_type": "stream",
     "text": [
      "+--------------------+--------+---------+---------+---------+-----------------------------+-------+------+----------+--------+--------+-----+----------+--------+-----------+-------+--------------+--------+---------+------+------+--------+\n",
      "|     _corrupt_record|acc_year|bjdong_cd|bjdong_nm|bldg_area|                      bldg_nm|bonbeon|bubeon|build_year|cntl_ymd|deal_ymd|floor|house_type|land_gbn|land_gbn_nm|obj_amt|rdealer_lawdnm| req_gbn|right_gbn|sgg_cd|sgg_nm|tot_area|\n",
      "+--------------------+--------+---------+---------+---------+-----------------------------+-------+------+----------+--------+--------+-----+----------+--------+-----------+-------+--------------+--------+---------+------+------+--------+\n",
      "|                   {|    NULL|     NULL|     NULL|     NULL|                         NULL|   NULL|  NULL|      NULL|    NULL|    NULL| NULL|      NULL|    NULL|       NULL|   NULL|          NULL|    NULL|     NULL|  NULL|  NULL|    NULL|\n",
      "|\"DESCRIPTION\" : {...|    NULL|     NULL|     NULL|     NULL|                         NULL|   NULL|  NULL|      NULL|    NULL|    NULL| NULL|      NULL|    NULL|       NULL|   NULL|          NULL|    NULL|     NULL|  NULL|  NULL|    NULL|\n",
      "|          \"DATA\" : [|    NULL|     NULL|     NULL|     NULL|                         NULL|   NULL|  NULL|      NULL|    NULL|    NULL| NULL|      NULL|    NULL|       NULL|   NULL|          NULL|    NULL|     NULL|  NULL|  NULL|    NULL|\n",
      "|                NULL|    2024|    10300|   개포동|    37.43|                예가풍경채3차|   1224|  0004|      2019|    NULL|20240315|    3|연립다세대|       1|       대지|  61000|   서울 용산구|중개거래|     NULL| 11680|강남구|    22.0|\n",
      "|                NULL|    2024|    10600|   대치동|    34.32|         선릉역 롯데골드로즈2|   0890|  0059|      2004|    NULL|20240314|   14|  오피스텔|       1|       대지|  28500|   서울 강남구|중개거래|     NULL| 11680|강남구|   47.95|\n",
      "|                NULL|    2024|    10300|   개포동|     34.8|          우성파크빌라(161-0)|   0161|  0000|      1993|    NULL|20240314|   -1|연립다세대|       1|       대지|  20000|          NULL|  직거래|     NULL| 11680|강남구|    13.0|\n",
      "|                NULL|    2024|    10100|   역삼동|    14.77|태건 강남 헤븐리치 더써밋 761|   0605|  0017|      2021|    NULL|20240313|    2|  오피스텔|       1|       대지|  23000|   서울 강남구|중개거래|     NULL| 11680|강남구|    23.1|\n",
      "|                NULL|    2024|    10600|   대치동|    77.98|                     대치르엘|   1030|  0000|      2021|    NULL|20240313|    7|    아파트|       1|       대지| 255000|   서울 강남구|중개거래|     NULL| 11680|강남구|     0.0|\n",
      "|                NULL|    2024|    11200|   자곡동|     58.7|        빌리브 파비오 더 까사|   0653|  0000|      2022|    NULL|20240312|   10|  오피스텔|       1|       대지|  81000|   서울 강남구|중개거래|     NULL| 11680|강남구|   83.89|\n",
      "|                NULL|    2024|    10100|   역삼동|   627.91|                         NULL|   NULL|  NULL|      1996|    NULL|20240312| NULL|단독다가구|    NULL|       NULL| 626000|   서울 강남구|중개거래|     NULL| 11680|강남구|   230.0|\n",
      "|                NULL|    2024|    10100|   역삼동|     23.9|           역삼 푸르지오 시티|   0735|  0017|      2016|    NULL|20240312|   13|  오피스텔|       1|       대지|  26800|   서울 강남구|중개거래|     NULL| 11680|강남구|    23.9|\n",
      "|                NULL|    2024|    10800|   논현동|    30.03|                 운현오피스텔|   0205|  0008|      2003|    NULL|20240311|    9|  오피스텔|       1|       대지|  20300|   서울 강남구|중개거래|     NULL| 11680|강남구|   42.95|\n",
      "|                NULL|    2024|    10300|   개포동|    37.43|                예가풍경채3차|   1224|  0004|      2019|20240315|20240311|    3|연립다세대|       1|       대지|  61000|   서울 용산구|중개거래|     NULL| 11680|강남구|    22.0|\n",
      "|                NULL|    2024|    10600|   대치동|    76.79|                         은마|   0316|  0000|      1979|    NULL|20240311|    1|    아파트|       1|       대지| 220000|   서울 강남구|중개거래|     NULL| 11680|강남구|     0.0|\n",
      "|                NULL|    2024|    10800|   논현동|    14.37|                논현빌(137-1)|   0137|  0001|      2013|    NULL|20240309|    2|연립다세대|       1|       대지|  17300|   서울 강남구|중개거래|     NULL| 11680|강남구|     9.0|\n",
      "|                NULL|    2024|    10100|   역삼동|     20.7|                  힐스테이트4|   0681|  0024|      2015|    NULL|20240308|    2|연립다세대|       1|       대지|  20000|   서울 강남구|중개거래|     NULL| 11680|강남구|    13.0|\n",
      "|                NULL|    2024|    11500|   수서동|    97.63|                   수서한아름|   0712|  0000|      1993|    NULL|20240308|    3|    아파트|       1|       대지| 160000|          NULL|  직거래|     NULL| 11680|강남구|     0.0|\n",
      "|                NULL|    2024|    10800|   논현동|    29.79|                     논현밸류|   0171|  0016|      2015|    NULL|20240306|    4|연립다세대|       1|       대지|  35000|   서울 서초구|중개거래|     NULL| 11680|강남구|    20.0|\n",
      "|                NULL|    2024|    10600|   대치동|    94.49|             래미안대치팰리스|   1027|  0000|      2015|    NULL|20240305|    6|    아파트|       1|       대지| 361500|   서울 강남구|중개거래|     NULL| 11680|강남구|     0.0|\n",
      "|                NULL|    2024|    10300|   개포동|    84.36|             디에이치아너힐즈|   0138|  0000|      2019|    NULL|20240305|    7|    아파트|       1|       대지| 280000|   서울 강남구|중개거래|     NULL| 11680|강남구|     0.0|\n",
      "+--------------------+--------+---------+---------+---------+-----------------------------+-------+------+----------+--------+--------+-----+----------+--------+-----------+-------+--------------+--------+---------+------+------+--------+\n"
     ]
    }
   ],
   "source": [
    "raw_df.show()"
   ],
   "metadata": {
    "collapsed": false,
    "ExecuteTime": {
     "end_time": "2024-03-20T05:16:41.404080Z",
     "start_time": "2024-03-20T05:16:40.139594Z"
    }
   },
   "id": "51533fa4decb67ab",
   "execution_count": 4
  },
  {
   "cell_type": "code",
   "outputs": [],
   "source": [
    "filter_df = raw_df.filter(col('acc_year') != 'NULL')"
   ],
   "metadata": {
    "collapsed": false,
    "ExecuteTime": {
     "end_time": "2024-03-20T05:16:42.763855Z",
     "start_time": "2024-03-20T05:16:42.695130Z"
    }
   },
   "id": "8b17183e8d2afff4",
   "execution_count": 5
  },
  {
   "cell_type": "code",
   "outputs": [
    {
     "name": "stderr",
     "output_type": "stream",
     "text": [
      "24/03/20 14:12:29 WARN MemoryManager: Total allocation exceeds 95.00% (1,020,054,720 bytes) of heap memory\n",
      "Scaling row group sizes to 95.00% for 8 writers\n",
      "24/03/20 14:12:29 WARN MemoryManager: Total allocation exceeds 95.00% (1,020,054,720 bytes) of heap memory\n",
      "Scaling row group sizes to 84.44% for 9 writers\n",
      "24/03/20 14:12:29 WARN MemoryManager: Total allocation exceeds 95.00% (1,020,054,720 bytes) of heap memory\n",
      "Scaling row group sizes to 76.00% for 10 writers\n",
      "24/03/20 14:12:29 WARN MemoryManager: Total allocation exceeds 95.00% (1,020,054,720 bytes) of heap memory\n",
      "Scaling row group sizes to 69.09% for 11 writers\n",
      "24/03/20 14:12:29 WARN MemoryManager: Total allocation exceeds 95.00% (1,020,054,720 bytes) of heap memory\n",
      "Scaling row group sizes to 63.33% for 12 writers\n",
      "24/03/20 14:12:31 WARN MemoryManager: Total allocation exceeds 95.00% (1,020,054,720 bytes) of heap memory\n",
      "Scaling row group sizes to 69.09% for 11 writers\n",
      "24/03/20 14:12:31 WARN MemoryManager: Total allocation exceeds 95.00% (1,020,054,720 bytes) of heap memory\n",
      "Scaling row group sizes to 76.00% for 10 writers\n",
      "24/03/20 14:12:31 WARN MemoryManager: Total allocation exceeds 95.00% (1,020,054,720 bytes) of heap memory\n",
      "Scaling row group sizes to 84.44% for 9 writers\n",
      "24/03/20 14:12:31 WARN MemoryManager: Total allocation exceeds 95.00% (1,020,054,720 bytes) of heap memory\n",
      "Scaling row group sizes to 95.00% for 8 writers\n",
      "                                                                                \r"
     ]
    }
   ],
   "source": [
    "(filter_df.write.format('parquet')\n",
    "    .mode('overwrite')\n",
    "    .save('../data/real-estate-seoul-gangnamgu')\n",
    ")\n"
   ],
   "metadata": {
    "collapsed": false,
    "ExecuteTime": {
     "end_time": "2024-03-20T05:12:31.909247Z",
     "start_time": "2024-03-20T05:12:27.286948Z"
    }
   },
   "id": "5314154c6408141a",
   "execution_count": 18
  },
  {
   "cell_type": "markdown",
   "source": [
    "## Load parquet files with no projection"
   ],
   "metadata": {
    "collapsed": false
   },
   "id": "eb6c02499cd32585"
  },
  {
   "cell_type": "code",
   "outputs": [
    {
     "name": "stdout",
     "output_type": "stream",
     "text": [
      "== Physical Plan ==\n",
      "AdaptiveSparkPlan isFinalPlan=false\n",
      "+- InMemoryTableScan [acc_year#519, bjdong_cd#520, bjdong_nm#521, bldg_area#522]\n",
      "      +- InMemoryRelation [_corrupt_record#518, acc_year#519, bjdong_cd#520, bjdong_nm#521, bldg_area#522, bldg_nm#523, bonbeon#524, bubeon#525, build_year#526, cntl_ymd#527, deal_ymd#528, floor#529L, house_type#530, land_gbn#531, land_gbn_nm#532, obj_amt#533, rdealer_lawdnm#534, req_gbn#535, right_gbn#536, sgg_cd#537, sgg_nm#538, tot_area#539], StorageLevel(disk, memory, deserialized, 1 replicas)\n",
      "            +- *(1) ColumnarToRow\n",
      "               +- FileScan parquet [_corrupt_record#518,acc_year#519,bjdong_cd#520,bjdong_nm#521,bldg_area#522,bldg_nm#523,bonbeon#524,bubeon#525,build_year#526,cntl_ymd#527,deal_ymd#528,floor#529L,house_type#530,land_gbn#531,land_gbn_nm#532,obj_amt#533,rdealer_lawdnm#534,req_gbn#535,right_gbn#536,sgg_cd#537,sgg_nm#538,tot_area#539] Batched: true, DataFilters: [], Format: Parquet, Location: InMemoryFileIndex(13 paths)[file:/Users/dead_line/Workspace/dead-1ine/experiments/pyspark/data/re..., PartitionFilters: [], PushedFilters: [], ReadSchema: struct<_corrupt_record:string,acc_year:string,bjdong_cd:string,bjdong_nm:string,bldg_area:double,...\n"
     ]
    },
    {
     "name": "stderr",
     "output_type": "stream",
     "text": [
      "[Stage 11:====>                                                   (1 + 11) / 12]\r"
     ]
    },
    {
     "name": "stdout",
     "output_type": "stream",
     "text": [
      "+--------+---------+---------+---------+\n",
      "|acc_year|bjdong_cd|bjdong_nm|bldg_area|\n",
      "+--------+---------+---------+---------+\n",
      "|    2024|    10300|   개포동|    37.43|\n",
      "|    2024|    10600|   대치동|    34.32|\n",
      "|    2024|    10300|   개포동|     34.8|\n",
      "|    2024|    10100|   역삼동|    14.77|\n",
      "|    2024|    10600|   대치동|    77.98|\n",
      "|    2024|    11200|   자곡동|     58.7|\n",
      "|    2024|    10100|   역삼동|   627.91|\n",
      "|    2024|    10100|   역삼동|     23.9|\n",
      "|    2024|    10800|   논현동|    30.03|\n",
      "|    2024|    10300|   개포동|    37.43|\n",
      "|    2024|    10600|   대치동|    76.79|\n",
      "|    2024|    10800|   논현동|    14.37|\n",
      "|    2024|    10100|   역삼동|     20.7|\n",
      "|    2024|    11500|   수서동|    97.63|\n",
      "|    2024|    10800|   논현동|    29.79|\n",
      "|    2024|    10600|   대치동|    94.49|\n",
      "|    2024|    10300|   개포동|    84.36|\n",
      "|    2024|    10600|   대치동|    17.68|\n",
      "|    2024|    10100|   역삼동|    29.88|\n",
      "|    2024|    11800|   도곡동|   119.89|\n",
      "+--------+---------+---------+---------+\n"
     ]
    },
    {
     "name": "stderr",
     "output_type": "stream",
     "text": [
      "                                                                                \r"
     ]
    }
   ],
   "source": [
    "parquet_df = spark.read.format('parquet').load('../data/real-estate-seoul-gangnamgu/*')\n",
    "parquet_df.persist()\n",
    "parquet_df = parquet_df.select('acc_year', 'bjdong_cd', 'bjdong_nm', 'bldg_area')\n",
    "\n",
    "parquet_df.explain()\n",
    "\n",
    "parquet_df.show()"
   ],
   "metadata": {
    "collapsed": false,
    "ExecuteTime": {
     "end_time": "2024-03-20T05:23:43.059424Z",
     "start_time": "2024-03-20T05:23:39.485650Z"
    }
   },
   "id": "cff671aae2486e50",
   "execution_count": 13
  },
  {
   "cell_type": "code",
   "outputs": [
    {
     "name": "stderr",
     "output_type": "stream",
     "text": [
      "[Stage 4:>                                                          (0 + 1) / 1]\r"
     ]
    },
    {
     "name": "stdout",
     "output_type": "stream",
     "text": [
      "+---------------+--------+---------+---------+---------+-----------------------------+-------+------+----------+--------+--------+-----+----------+--------+-----------+-------+--------------+--------+---------+------+------+--------+\n",
      "|_corrupt_record|acc_year|bjdong_cd|bjdong_nm|bldg_area|                      bldg_nm|bonbeon|bubeon|build_year|cntl_ymd|deal_ymd|floor|house_type|land_gbn|land_gbn_nm|obj_amt|rdealer_lawdnm| req_gbn|right_gbn|sgg_cd|sgg_nm|tot_area|\n",
      "+---------------+--------+---------+---------+---------+-----------------------------+-------+------+----------+--------+--------+-----+----------+--------+-----------+-------+--------------+--------+---------+------+------+--------+\n",
      "|           NULL|    2024|    10300|   개포동|    37.43|                예가풍경채3차|   1224|  0004|      2019|    NULL|20240315|    3|연립다세대|       1|       대지|  61000|   서울 용산구|중개거래|     NULL| 11680|강남구|    22.0|\n",
      "|           NULL|    2024|    10600|   대치동|    34.32|         선릉역 롯데골드로즈2|   0890|  0059|      2004|    NULL|20240314|   14|  오피스텔|       1|       대지|  28500|   서울 강남구|중개거래|     NULL| 11680|강남구|   47.95|\n",
      "|           NULL|    2024|    10300|   개포동|     34.8|          우성파크빌라(161-0)|   0161|  0000|      1993|    NULL|20240314|   -1|연립다세대|       1|       대지|  20000|          NULL|  직거래|     NULL| 11680|강남구|    13.0|\n",
      "|           NULL|    2024|    10100|   역삼동|    14.77|태건 강남 헤븐리치 더써밋 761|   0605|  0017|      2021|    NULL|20240313|    2|  오피스텔|       1|       대지|  23000|   서울 강남구|중개거래|     NULL| 11680|강남구|    23.1|\n",
      "|           NULL|    2024|    10600|   대치동|    77.98|                     대치르엘|   1030|  0000|      2021|    NULL|20240313|    7|    아파트|       1|       대지| 255000|   서울 강남구|중개거래|     NULL| 11680|강남구|     0.0|\n",
      "|           NULL|    2024|    11200|   자곡동|     58.7|        빌리브 파비오 더 까사|   0653|  0000|      2022|    NULL|20240312|   10|  오피스텔|       1|       대지|  81000|   서울 강남구|중개거래|     NULL| 11680|강남구|   83.89|\n",
      "|           NULL|    2024|    10100|   역삼동|   627.91|                         NULL|   NULL|  NULL|      1996|    NULL|20240312| NULL|단독다가구|    NULL|       NULL| 626000|   서울 강남구|중개거래|     NULL| 11680|강남구|   230.0|\n",
      "|           NULL|    2024|    10100|   역삼동|     23.9|           역삼 푸르지오 시티|   0735|  0017|      2016|    NULL|20240312|   13|  오피스텔|       1|       대지|  26800|   서울 강남구|중개거래|     NULL| 11680|강남구|    23.9|\n",
      "|           NULL|    2024|    10800|   논현동|    30.03|                 운현오피스텔|   0205|  0008|      2003|    NULL|20240311|    9|  오피스텔|       1|       대지|  20300|   서울 강남구|중개거래|     NULL| 11680|강남구|   42.95|\n",
      "|           NULL|    2024|    10300|   개포동|    37.43|                예가풍경채3차|   1224|  0004|      2019|20240315|20240311|    3|연립다세대|       1|       대지|  61000|   서울 용산구|중개거래|     NULL| 11680|강남구|    22.0|\n",
      "|           NULL|    2024|    10600|   대치동|    76.79|                         은마|   0316|  0000|      1979|    NULL|20240311|    1|    아파트|       1|       대지| 220000|   서울 강남구|중개거래|     NULL| 11680|강남구|     0.0|\n",
      "|           NULL|    2024|    10800|   논현동|    14.37|                논현빌(137-1)|   0137|  0001|      2013|    NULL|20240309|    2|연립다세대|       1|       대지|  17300|   서울 강남구|중개거래|     NULL| 11680|강남구|     9.0|\n",
      "|           NULL|    2024|    10100|   역삼동|     20.7|                  힐스테이트4|   0681|  0024|      2015|    NULL|20240308|    2|연립다세대|       1|       대지|  20000|   서울 강남구|중개거래|     NULL| 11680|강남구|    13.0|\n",
      "|           NULL|    2024|    11500|   수서동|    97.63|                   수서한아름|   0712|  0000|      1993|    NULL|20240308|    3|    아파트|       1|       대지| 160000|          NULL|  직거래|     NULL| 11680|강남구|     0.0|\n",
      "|           NULL|    2024|    10800|   논현동|    29.79|                     논현밸류|   0171|  0016|      2015|    NULL|20240306|    4|연립다세대|       1|       대지|  35000|   서울 서초구|중개거래|     NULL| 11680|강남구|    20.0|\n",
      "|           NULL|    2024|    10600|   대치동|    94.49|             래미안대치팰리스|   1027|  0000|      2015|    NULL|20240305|    6|    아파트|       1|       대지| 361500|   서울 강남구|중개거래|     NULL| 11680|강남구|     0.0|\n",
      "|           NULL|    2024|    10300|   개포동|    84.36|             디에이치아너힐즈|   0138|  0000|      2019|    NULL|20240305|    7|    아파트|       1|       대지| 280000|   서울 강남구|중개거래|     NULL| 11680|강남구|     0.0|\n",
      "|           NULL|    2024|    10600|   대치동|    17.68|         대치트레비스타 102동|   0891|  0063|      2020|    NULL|20240304|    5|  오피스텔|       1|       대지|  24000|   서울 강남구|중개거래|     NULL| 11680|강남구|   31.37|\n",
      "|           NULL|    2024|    10100|   역삼동|    29.88| 강남역 서희스타힐스 오피스텔|   0837|  0018|      2012|    NULL|20240304|    2|  오피스텔|       1|       대지|  26000|          NULL|  직거래|     NULL| 11680|강남구|    45.7|\n",
      "|           NULL|    2024|    11800|   도곡동|   119.89|                     도곡렉슬|   0527|  0000|      2006|    NULL|20240304|    3|    아파트|       1|       대지| 305000|   서울 강남구|중개거래|     NULL| 11680|강남구|     0.0|\n",
      "+---------------+--------+---------+---------+---------+-----------------------------+-------+------+----------+--------+--------+-----+----------+--------+-----------+-------+--------------+--------+---------+------+------+--------+\n"
     ]
    },
    {
     "name": "stderr",
     "output_type": "stream",
     "text": [
      "                                                                                \r"
     ]
    }
   ],
   "source": [
    "parquet_df = spark.read.format('parquet').load('../data/real-estate-seoul-gangnamgu/*')\n",
    "\n",
    "parquet_df = parquet_df.select('acc_year', 'bjdong_cd', 'bjdong_nm', 'bldg_area')\n",
    "\n",
    "parquet_df.explain()\n",
    "\n",
    "parquet_df.show()"
   ],
   "metadata": {
    "collapsed": false,
    "ExecuteTime": {
     "end_time": "2024-03-20T05:20:30.093763Z",
     "start_time": "2024-03-20T05:20:28.487902Z"
    }
   },
   "id": "29c2b079266f4042",
   "execution_count": 9
  },
  {
   "cell_type": "code",
   "outputs": [],
   "source": [],
   "metadata": {
    "collapsed": false
   },
   "id": "a066d129e5be3b46"
  }
 ],
 "metadata": {
  "kernelspec": {
   "display_name": "Python 3",
   "language": "python",
   "name": "python3"
  },
  "language_info": {
   "codemirror_mode": {
    "name": "ipython",
    "version": 2
   },
   "file_extension": ".py",
   "mimetype": "text/x-python",
   "name": "python",
   "nbconvert_exporter": "python",
   "pygments_lexer": "ipython2",
   "version": "2.7.6"
  }
 },
 "nbformat": 4,
 "nbformat_minor": 5
}
